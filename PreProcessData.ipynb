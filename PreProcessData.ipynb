{
 "cells": [
  {
   "cell_type": "code",
   "execution_count": 1,
   "metadata": {},
   "outputs": [],
   "source": [
    "def write_output(filename, counts):\n",
    "    with open(filename, \"w\") as file:\n",
    "        for key, val in counts.items():\n",
    "            file.write(f\"{key}:{val}\\n\")\n",
    "            "
   ]
  },
  {
   "cell_type": "code",
   "execution_count": 5,
   "metadata": {},
   "outputs": [
    {
     "ename": "FileNotFoundError",
     "evalue": "[Errno 2] No such file or directory: 'raw_data'",
     "output_type": "error",
     "traceback": [
      "\u001b[0;31m---------------------------------------------------------------------------\u001b[0m",
      "\u001b[0;31mFileNotFoundError\u001b[0m                         Traceback (most recent call last)",
      "\u001b[0;32m<ipython-input-5-6c7991b1fc27>\u001b[0m in \u001b[0;36m<module>\u001b[0;34m\u001b[0m\n\u001b[1;32m      6\u001b[0m \u001b[0mpreprocessed_dir\u001b[0m \u001b[0;34m=\u001b[0m \u001b[0;34m\"preprocessed_data\"\u001b[0m\u001b[0;34m\u001b[0m\u001b[0;34m\u001b[0m\u001b[0m\n\u001b[1;32m      7\u001b[0m \u001b[0;34m\u001b[0m\u001b[0m\n\u001b[0;32m----> 8\u001b[0;31m \u001b[0;32mfor\u001b[0m \u001b[0mdata_type\u001b[0m \u001b[0;32min\u001b[0m \u001b[0mlistdir\u001b[0m\u001b[0;34m(\u001b[0m\u001b[0mdata_dir\u001b[0m\u001b[0;34m)\u001b[0m\u001b[0;34m:\u001b[0m\u001b[0;34m\u001b[0m\u001b[0;34m\u001b[0m\u001b[0m\n\u001b[0m\u001b[1;32m      9\u001b[0m     \u001b[0mprint\u001b[0m\u001b[0;34m(\u001b[0m\u001b[0;34mf\"Processing '{data_type}':\"\u001b[0m\u001b[0;34m)\u001b[0m\u001b[0;34m\u001b[0m\u001b[0;34m\u001b[0m\u001b[0m\n\u001b[1;32m     10\u001b[0m \u001b[0;34m\u001b[0m\u001b[0m\n",
      "\u001b[0;31mFileNotFoundError\u001b[0m: [Errno 2] No such file or directory: 'raw_data'"
     ]
    }
   ],
   "source": [
    "from os import listdir, mkdir\n",
    "from os.path import join, exists\n",
    "from count_bytes import count_bytes\n",
    "\n",
    "data_dir = \"raw_data\"\n",
    "preprocessed_dir = \"preprocessed_data\"\n",
    "\n",
    "for data_type in listdir(data_dir):\n",
    "    print(f\"Processing '{data_type}':\")\n",
    "    \n",
    "    out_dir = join(preprocessed_dir, data_type)\n",
    "    if not exists(out_dir): mkdir(out_dir)\n",
    "    \n",
    "    in_dir = join(data_dir, data_type)\n",
    "    for in_file in listdir(in_dir):\n",
    "        counts = count_bytes(join(in_dir, in_file))\n",
    "        \n",
    "        out_file = in_file + \"x\"\n",
    "        print(f\"{in_file} -> {out_file}\")\n",
    "        \n",
    "        write_output(join(out_dir, out_file), counts)\n",
    "        \n",
    "    print()\n",
    "\n",
    "print(\"Done\")"
   ]
  },
  {
   "cell_type": "code",
   "execution_count": null,
   "metadata": {},
   "outputs": [],
   "source": []
  }
 ],
 "metadata": {
  "kernelspec": {
   "display_name": "Python 3",
   "language": "python",
   "name": "python3"
  },
  "language_info": {
   "codemirror_mode": {
    "name": "ipython",
    "version": 3
   },
   "file_extension": ".py",
   "mimetype": "text/x-python",
   "name": "python",
   "nbconvert_exporter": "python",
   "pygments_lexer": "ipython3",
   "version": "3.6.9"
  }
 },
 "nbformat": 4,
 "nbformat_minor": 2
}
