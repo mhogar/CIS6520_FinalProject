{
 "cells": [
  {
   "cell_type": "code",
   "execution_count": 16,
   "metadata": {},
   "outputs": [
    {
     "name": "stdout",
     "output_type": "stream",
     "text": [
      "Shape of Matrix: (28962, 256), Targets: (28962,)\n"
     ]
    }
   ],
   "source": [
    "import numpy as np\n",
    "from os import listdir\n",
    "from os.path import join\n",
    "\n",
    "in_dir = \"preprocessed_data\"\n",
    "\n",
    "labels = listdir(in_dir)\n",
    "\n",
    "count = 0\n",
    "for label in labels:\n",
    "    count += len(listdir(join(in_dir, label)))\n",
    "\n",
    "mat = np.zeros((count, 256), dtype=np.int16)\n",
    "targets = np.zeros(count, dtype=np.int8)\n",
    "\n",
    "print(f\"Shape of Matrix: {np.shape(mat)}, Targets: {np.shape(targets)}\")"
   ]
  },
  {
   "cell_type": "code",
   "execution_count": 19,
   "metadata": {
    "scrolled": true
   },
   "outputs": [
    {
     "name": "stdout",
     "output_type": "stream",
     "text": [
      "Loading 'image' -> Done\n",
      "Loading 'text' -> Done\n",
      "Loading 'audio' -> Done\n",
      "Loading 'executable' -> Done\n"
     ]
    }
   ],
   "source": [
    "index = 0\n",
    "\n",
    "for i, label in enumerate(labels):\n",
    "    print(f\"Loading '{label}' \", end=\"\")\n",
    "    \n",
    "    for filename in listdir(join(in_dir, label)):\n",
    "        with open(join(in_dir, label, filename)) as file:\n",
    "            for line in file.readlines():\n",
    "                tokens = line.strip().split(\":\")\n",
    "                mat[index][int(tokens[0])] = int(tokens[1])\n",
    "        \n",
    "        targets[index] = i\n",
    "        index += 1\n",
    "    \n",
    "    print(\"-> Done\")"
   ]
  },
  {
   "cell_type": "code",
   "execution_count": 20,
   "metadata": {},
   "outputs": [
    {
     "name": "stdout",
     "output_type": "stream",
     "text": [
      "Shape of Training Data: (20273, 256), Testing Data: (8689, 256)\n",
      "Shape of Training Targets: (20273,), Testing Targets: (8689,)\n"
     ]
    }
   ],
   "source": [
    "from sklearn.model_selection import train_test_split\n",
    "\n",
    "data_train, data_test, targets_train, targets_test = train_test_split(mat, targets, test_size=0.3)\n",
    "print(f\"Shape of Training Data: {np.shape(data_train)}, Testing Data: {np.shape(data_test)}\")\n",
    "print(f\"Shape of Training Targets: {np.shape(targets_train)}, Testing Targets: {np.shape(targets_test)}\")"
   ]
  },
  {
   "cell_type": "code",
   "execution_count": 22,
   "metadata": {},
   "outputs": [
    {
     "name": "stdout",
     "output_type": "stream",
     "text": [
      "Nearest Neighbors (k=3) -> accuracy: 99.34399815859132\n",
      "Nearest Neighbors (k=5) -> accuracy: 99.24041892047416\n",
      "Nearest Neighbors (k=10) -> accuracy: 99.12533087812176\n",
      "Decision Tree -> accuracy: 99.01024283576938\n",
      "Linear SVM -> accuracy: 98.83761077224077\n",
      "Best Model: Nearest Neighbors (k=3)\n"
     ]
    }
   ],
   "source": [
    "from sklearn.neighbors import KNeighborsClassifier\n",
    "from sklearn.tree import DecisionTreeClassifier\n",
    "from sklearn.svm import SVC\n",
    "from sklearn.metrics import accuracy_score\n",
    "\n",
    "classifiers = {\n",
    "    \"Nearest Neighbors (k=3)\": KNeighborsClassifier(3),\n",
    "    \"Nearest Neighbors (k=5)\": KNeighborsClassifier(5),\n",
    "    \"Nearest Neighbors (k=10)\": KNeighborsClassifier(10),\n",
    "    \"Decision Tree\": DecisionTreeClassifier(),\n",
    "    \"Linear SVM\" : SVC(kernel=\"linear\"),\n",
    "}\n",
    "\n",
    "max_score = 0.0\n",
    "best_classifier = \"\"\n",
    "    \n",
    "for clf_name, clf in classifiers.items():\n",
    "    print(clf_name, end=\"\")\n",
    "    \n",
    "    clf.fit(data_train, targets_train)\n",
    "    predictions = clf.predict(data_test)\n",
    "    \n",
    "    accuracy = 100.0 * accuracy_score(targets_test, predictions)\n",
    "    print(f\" -> accuracy {accuracy}\")\n",
    "    \n",
    "    if accuracy > max_score:\n",
    "        max_score = accuracy\n",
    "        best_classifier = clf_name\n",
    "        \n",
    "print(f\"Best Model: {best_classifier}\")"
   ]
  },
  {
   "cell_type": "code",
   "execution_count": 23,
   "metadata": {
    "scrolled": true
   },
   "outputs": [
    {
     "name": "stdout",
     "output_type": "stream",
     "text": [
      "Saving Nearest Neighbors (k=3)\n",
      "Writing Labels\n"
     ]
    }
   ],
   "source": [
    "from joblib import dump\n",
    "\n",
    "model_dir = \"model\"\n",
    "\n",
    "print(f\"Saving {best_classifier}\")\n",
    "dump(classifiers[best_classifier], join(model_dir, \"model.dat\"))\n",
    "\n",
    "print(\"Writing Labels\")\n",
    "with open(join(model_dir, \"labels.csv\"), \"w\") as file:\n",
    "    file.write(\",\".join(labels))"
   ]
  },
  {
   "cell_type": "code",
   "execution_count": null,
   "metadata": {},
   "outputs": [],
   "source": []
  }
 ],
 "metadata": {
  "kernelspec": {
   "display_name": "Python 3",
   "language": "python",
   "name": "python3"
  },
  "language_info": {
   "codemirror_mode": {
    "name": "ipython",
    "version": 3
   },
   "file_extension": ".py",
   "mimetype": "text/x-python",
   "name": "python",
   "nbconvert_exporter": "python",
   "pygments_lexer": "ipython3",
   "version": "3.6.9"
  }
 },
 "nbformat": 4,
 "nbformat_minor": 2
}
